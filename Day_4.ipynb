{
 "cells": [
  {
   "cell_type": "markdown",
   "metadata": {},
   "source": [
    "ME200, Johannes Ruf and Luitgard Veraart"
   ]
  },
  {
   "cell_type": "markdown",
   "metadata": {},
   "source": [
    "# Day 4: Random number generation in Python and other Python topics"
   ]
  },
  {
   "cell_type": "markdown",
   "metadata": {},
   "source": [
    "## On Python's random number generator"
   ]
  },
  {
   "cell_type": "markdown",
   "metadata": {},
   "source": [
    "Let us simulate a few uniformly distributed samples."
   ]
  },
  {
   "cell_type": "code",
   "execution_count": 2,
   "metadata": {},
   "outputs": [],
   "source": [
    "import numpy as np"
   ]
  },
  {
   "cell_type": "code",
   "execution_count": 3,
   "metadata": {},
   "outputs": [],
   "source": [
    "sample_size = 20"
   ]
  },
  {
   "cell_type": "code",
   "execution_count": 4,
   "metadata": {},
   "outputs": [],
   "source": [
    "samples = np.random.random(size=sample_size)"
   ]
  },
  {
   "cell_type": "markdown",
   "metadata": {},
   "source": [
    "Let us check whether these numbers also display the lattice structure of the linear congruential generator."
   ]
  },
  {
   "cell_type": "code",
   "execution_count": 6,
   "metadata": {},
   "outputs": [],
   "source": [
    "import matplotlib.pyplot as plt"
   ]
  },
  {
   "cell_type": "code",
   "execution_count": 56,
   "metadata": {},
   "outputs": [
    {
     "data": {
      "image/png": "[encoded data removed]",
      "text/plain": [
       "<Figure size 432x288 with 1 Axes>"
      ]
     },
     "metadata": {
      "needs_background": "light"
     },
     "output_type": "display_data"
    }
   ],
   "source": [
    "fig, ax = plt.subplots()\n",
    "ax.scatter(samples[:-1], samples[1:]);     \n",
    "# samples[:-1] are all the samples except the last one; \n",
    "# samples[1:] are all the samples except the first one;\n",
    "# hence this plots on the x-axis the value of a sample and on the y-axis the next sample"
   ]
  },
  {
   "cell_type": "markdown",
   "metadata": {},
   "source": [
    "We can’t detect any lattice structure here. Indeed, Python uses more sophisticated random number generators than the linear congruential one."
   ]
  },
  {
   "cell_type": "markdown",
   "metadata": {},
   "source": [
    "## Seeding Python's random number generator"
   ]
  },
  {
   "cell_type": "markdown",
   "metadata": {},
   "source": [
    "If we execute the following code twice, we get different values; indeed these are different (pseudo-) random realizations. Also, all of us will get different values."
   ]
  },
  {
   "cell_type": "code",
   "execution_count": 14,
   "metadata": {},
   "outputs": [
    {
     "data": {
      "text/plain": [
       "array([0.4739058 , 0.68766642, 0.21313736, 0.98672097, 0.28819316])"
      ]
     },
     "execution_count": 14,
     "metadata": {},
     "output_type": "execute_result"
    }
   ],
   "source": [
    "np.random.random(size=5)"
   ]
  },
  {
   "cell_type": "markdown",
   "metadata": {},
   "source": [
    "Any random number generator is actually a deterministic (but very complicated) function of a seed."
   ]
  },
  {
   "cell_type": "markdown",
   "metadata": {},
   "source": [
    "To see this let us now do a slightly cleaner version of Python code than we have used so far. To this end, we first define a random number generator (rng):"
   ]
  },
  {
   "cell_type": "code",
   "execution_count": 24,
   "metadata": {},
   "outputs": [],
   "source": [
    "rng = np.random.default_rng()"
   ]
  },
  {
   "cell_type": "markdown",
   "metadata": {},
   "source": [
    "Instead of `random.random` we can now just use:"
   ]
  },
  {
   "cell_type": "code",
   "execution_count": 28,
   "metadata": {},
   "outputs": [
    {
     "data": {
      "text/plain": [
       "0.11306773964090411"
      ]
     },
     "execution_count": 28,
     "metadata": {},
     "output_type": "execute_result"
    }
   ],
   "source": [
    "rng.random()"
   ]
  },
  {
   "cell_type": "markdown",
   "metadata": {},
   "source": [
    "Similarly, instead of `random.normal` we can now just use:"
   ]
  },
  {
   "cell_type": "code",
   "execution_count": 29,
   "metadata": {},
   "outputs": [
    {
     "data": {
      "text/plain": [
       "0.6216468411013351"
      ]
     },
     "execution_count": 29,
     "metadata": {},
     "output_type": "execute_result"
    }
   ],
   "source": [
    "rng.normal()"
   ]
  },
  {
   "cell_type": "markdown",
   "metadata": {},
   "source": [
    "etc, etc."
   ]
  },
  {
   "cell_type": "markdown",
   "metadata": {},
   "source": [
    "Now, let us introduce the random number generator with additional `seed` argument:"
   ]
  },
  {
   "cell_type": "code",
   "execution_count": 31,
   "metadata": {},
   "outputs": [],
   "source": [
    "rng = np.random.default_rng(seed=12345)"
   ]
  },
  {
   "cell_type": "code",
   "execution_count": 33,
   "metadata": {},
   "outputs": [
    {
     "data": {
      "text/plain": [
       "array([0.31675834, 0.79736546, 0.67625467, 0.39110955, 0.33281393])"
      ]
     },
     "execution_count": 33,
     "metadata": {},
     "output_type": "execute_result"
    }
   ],
   "source": [
    "rng.random(size=5)"
   ]
  },
  {
   "cell_type": "markdown",
   "metadata": {},
   "source": [
    "Now, we all get the same numbers!\n",
    "\n",
    "If we seed again (with the same number), and run the random number geneartor once more, we also get the same numbers:"
   ]
  },
  {
   "cell_type": "code",
   "execution_count": 34,
   "metadata": {},
   "outputs": [
    {
     "data": {
      "text/plain": [
       "array([0.22733602, 0.31675834, 0.79736546, 0.67625467, 0.39110955])"
      ]
     },
     "execution_count": 34,
     "metadata": {},
     "output_type": "execute_result"
    }
   ],
   "source": [
    "rng = np.random.default_rng(seed=12345)\n",
    "rng.random(size=5)"
   ]
  },
  {
   "cell_type": "markdown",
   "metadata": {},
   "source": [
    "In general, when developing a Python program, it’s good practice to set a seed. This allows reproducibility and helps finding mistakes."
   ]
  },
  {
   "cell_type": "markdown",
   "metadata": {},
   "source": [
    "## Functions"
   ]
  },
  {
   "cell_type": "markdown",
   "metadata": {},
   "source": [
    "Python allows to define functions. \n",
    "Python code is better structured by defining functions.\n",
    "\n",
    "The basic syntaxis is  *def name_function: ---  return(---)*\n",
    "\n",
    "Here is an example:"
   ]
  },
  {
   "cell_type": "code",
   "execution_count": 87,
   "metadata": {},
   "outputs": [],
   "source": [
    "def M(t=0):\n",
    "    return np.exp(t**2/2)"
   ]
  },
  {
   "cell_type": "markdown",
   "metadata": {},
   "source": [
    " * Now $M$ represents the function $t \\mapsto \\mathrm{e}^{t^2/2}$.\n",
    " * The ``= 0'' says that the standard argument is zero\n",
    " * Note the colon after the arguments, and note that the next line is indented\n",
    " * The following code evaluates M at zero, then at one,  and then at the values $0, 1, 2, 3, 4, 5$. Finally it plots the graph of M from -3 to 3"
   ]
  },
  {
   "cell_type": "code",
   "execution_count": 43,
   "metadata": {},
   "outputs": [
    {
     "name": "stdout",
     "output_type": "stream",
     "text": [
      "1.0\n",
      "1.6487212707001282\n",
      "[1.00000000e+00 1.64872127e+00 7.38905610e+00 9.00171313e+01\n",
      " 2.98095799e+03 2.68337287e+05]\n"
     ]
    }
   ],
   "source": [
    "print(M())    # or print(M(0))\n",
    "print(M(1))\n",
    "print(M(np.arange(6)))"
   ]
  },
  {
   "cell_type": "code",
   "execution_count": 44,
   "metadata": {},
   "outputs": [
    {
     "data": {
      "image/png": "[encoded data removed]",
      "text/plain": [
       "<Figure size 432x288 with 1 Axes>"
      ]
     },
     "metadata": {
      "needs_background": "light"
     },
     "output_type": "display_data"
    }
   ],
   "source": [
    "import matplotlib.pyplot as plt\n",
    "\n",
    "x = np.linspace(-3, 3, 100)\n",
    "y = M(x)\n",
    "fig, ax = plt.subplots()\n",
    "ax.plot(x, y);"
   ]
  },
  {
   "cell_type": "markdown",
   "metadata": {},
   "source": [
    "We will use functions quite a lot; they are very useful."
   ]
  },
  {
   "cell_type": "markdown",
   "metadata": {},
   "source": [
    "Here just one more example: the function $f(x,y) = x*y^3 - \\frac{\\cos(x)}{\\pi}$."
   ]
  },
  {
   "cell_type": "code",
   "execution_count": 83,
   "metadata": {},
   "outputs": [],
   "source": [
    "def f(x, y):\n",
    "    return x * y**3 - np.cos(x) / np.pi"
   ]
  },
  {
   "cell_type": "code",
   "execution_count": 84,
   "metadata": {},
   "outputs": [
    {
     "data": {
      "text/plain": [
       "108.20806122656185"
      ]
     },
     "execution_count": 84,
     "metadata": {},
     "output_type": "execute_result"
    }
   ],
   "source": [
    "f(4, 3)"
   ]
  },
  {
   "cell_type": "markdown",
   "metadata": {},
   "source": [
    "There are many possibilities to define such a function. Here is an alternative way:"
   ]
  },
  {
   "cell_type": "code",
   "execution_count": 85,
   "metadata": {},
   "outputs": [],
   "source": [
    "def f(x, y):\n",
    "    z = np.cos(x) / np.pi\n",
    "    return x * y**3 - z"
   ]
  },
  {
   "cell_type": "code",
   "execution_count": 86,
   "metadata": {},
   "outputs": [
    {
     "data": {
      "text/plain": [
       "108.20806122656185"
      ]
     },
     "execution_count": 86,
     "metadata": {},
     "output_type": "execute_result"
    }
   ],
   "source": [
    "f(4, 3)"
   ]
  },
  {
   "cell_type": "markdown",
   "metadata": {},
   "source": [
    "## Control structures in Python, part I: for loops"
   ]
  },
  {
   "cell_type": "markdown",
   "metadata": {},
   "source": [
    " A loop allows us to repeat a sequence of commands. For example:"
   ]
  },
  {
   "cell_type": "code",
   "execution_count": 45,
   "metadata": {},
   "outputs": [
    {
     "name": "stdout",
     "output_type": "stream",
     "text": [
      "1\n",
      "9\n",
      "25\n",
      "49\n"
     ]
    }
   ],
   "source": [
    "vector = np.array([1, 3, 5, 7])\n",
    "\n",
    "for x in vector:\n",
    "    print(x**2)"
   ]
  },
  {
   "cell_type": "markdown",
   "metadata": {},
   "source": [
    "When possible, however, we should try and avoid for loops (as they can be very slow). The following code achieves the same and is faster:"
   ]
  },
  {
   "cell_type": "code",
   "execution_count": 47,
   "metadata": {},
   "outputs": [
    {
     "name": "stdout",
     "output_type": "stream",
     "text": [
      "[ 1  9 25 49]\n"
     ]
    }
   ],
   "source": [
    "print(vector**2)"
   ]
  },
  {
   "cell_type": "markdown",
   "metadata": {},
   "source": [
    "One strength of `numpy` is that it handle vectors very well. Hence, whenever we can write some repeated computations in a vectorized version, this should be done to avoid for loops."
   ]
  },
  {
   "cell_type": "markdown",
   "metadata": {},
   "source": [
    "## Implementation of a linear congruential generator"
   ]
  },
  {
   "cell_type": "markdown",
   "metadata": {},
   "source": [
    "Recall the algorithm for the LCG:\n",
    "\n",
    "\\begin{align*}\n",
    "x_{i+1} &= a x_i \\bmod m;\\\\ \n",
    "u_{i+1} &= \\frac{x_{i+1}}{m}.\n",
    "\\end{align*} "
   ]
  },
  {
   "cell_type": "code",
   "execution_count": 101,
   "metadata": {},
   "outputs": [],
   "source": [
    "def lcg(m, a,seed, sample_size=10):\n",
    "    rng = np.array([])\n",
    "    x = seed\n",
    "    for i in range(sample_size):\n",
    "        x = (a * x) % m \n",
    "        rng = np.append(rng, x / m)\n",
    "    return rng"
   ]
  },
  {
   "cell_type": "markdown",
   "metadata": {},
   "source": [
    "Let's consider again $a=6$, $m=11$, $x_0=1$. Let's plot consecutive overlapping pairs $(u_1, u_2), (u_2, u_3), \\cdots , (u_{10}, u_{11})$."
   ]
  },
  {
   "cell_type": "code",
   "execution_count": 103,
   "metadata": {},
   "outputs": [
    {
     "data": {
      "image/png": "[encoded data removed]",
      "text/plain": [
       "<Figure size 432x288 with 1 Axes>"
      ]
     },
     "metadata": {
      "needs_background": "light"
     },
     "output_type": "display_data"
    }
   ],
   "source": [
    "pseudo_random_sequence = lcg(11, 6, 1, 11)\n",
    "\n",
    "_, ax = plt.subplots()\n",
    "ax.plot(pseudo_random_sequence[: -1], pseudo_random_sequence[1:], '.')\n",
    "ax.set_xlabel('$u_{i}$');  ax.set_ylabel('$u_{i+1}$');\n",
    "ax.set_title('Pairs of consecutive pseudo-random numbers from LCG');"
   ]
  },
  {
   "cell_type": "markdown",
   "metadata": {},
   "source": [
    "*  The ten points lie on just two parallel lines through the unit square (with $u_i$ on $x$-axis and $u_{i+1}$ on $y$-axis). \n",
    "* This lattice structure distinguishes those samples from genuine random numbers. "
   ]
  },
  {
   "cell_type": "markdown",
   "metadata": {},
   "source": [
    "## The inverse transform method in Python for exponentially distributed random variables"
   ]
  },
  {
   "cell_type": "markdown",
   "metadata": {},
   "source": [
    "$F(x) = 1 - \\exp(-x) (for x >= 0)$\n",
    "the inverse is  $-log(1-u)$"
   ]
  },
  {
   "cell_type": "code",
   "execution_count": 63,
   "metadata": {},
   "outputs": [],
   "source": [
    "sample_size = 100_000    \n",
    "# just another way to write 100000; we can always include under scores when writing long integers\n",
    "\n",
    "rng = np.random.default_rng(seed=12345) \n",
    "u = rng.random(size=sample_size)\n",
    "samples = -np.log(u) #because 1-u is also uniformly distributed"
   ]
  },
  {
   "cell_type": "code",
   "execution_count": null,
   "metadata": {},
   "outputs": [],
   "source": [
    "##np.random.seed(1352453)\n",
    "##u = np.random.random(sample_size)"
   ]
  },
  {
   "cell_type": "markdown",
   "metadata": {},
   "source": [
    "The `numpy` package could also do this directly:"
   ]
  },
  {
   "cell_type": "code",
   "execution_count": 64,
   "metadata": {},
   "outputs": [],
   "source": [
    "samples_numpy = rng.exponential(size=sample_size)"
   ]
  },
  {
   "cell_type": "code",
   "execution_count": 65,
   "metadata": {
    "scrolled": true
   },
   "outputs": [
    {
     "data": {
      "image/png": "[encoded data removed]",
      "text/plain": [
       "<Figure size 1080x576 with 2 Axes>"
      ]
     },
     "metadata": {
      "needs_background": "light"
     },
     "output_type": "display_data"
    }
   ],
   "source": [
    "_, axs = plt.subplots(nrows=1, ncols=2, figsize=(15, 8))\n",
    "axs[0].hist(samples, bins=100, density=True);    # density argument changes the y-label. experiment!\n",
    "axs[0].set_title('Histogram of random numbers generated by inverse transform method')\n",
    "axs[1].hist(samples_numpy, bins=100, density=True);\n",
    "axs[1].set_title('Histogram of random numbers generated by NumPy directly');\n",
    "for ax in axs:                 # doing the same thing for both panels ('axes')\n",
    "    ax.set_ylim([0, 1]);       # changing the limits on the y axis\n",
    "    ax.set_xlim([0, 8]);"
   ]
  },
  {
   "cell_type": "markdown",
   "metadata": {},
   "source": [
    "We observe the two histograms look very similar, as expected. Let's check mean and standard deviations."
   ]
  },
  {
   "cell_type": "code",
   "execution_count": 75,
   "metadata": {},
   "outputs": [
    {
     "name": "stdout",
     "output_type": "stream",
     "text": [
      "The mean and standard deviation of the sample generated by the inverse transform method are 0.9988 and 0.9982.\n",
      "The mean and standard deviation of the sample generated by NumPy                        are 0.9962 and 0.9963.\n"
     ]
    }
   ],
   "source": [
    "print(f'The mean and standard deviation of the sample generated by the inverse transform method are',\n",
    "      f'{np.mean(samples):.4f} and {np.std(samples):.4f}.')\n",
    "print(f'The mean and standard deviation of the sample generated by NumPy                        are',\n",
    "      f'{np.mean(samples_numpy):.4f} and {np.std(samples_numpy):.4f}.')\n",
    "\n",
    "#note the colon followed by 4f.  It means that the numbers are rounded to 4 digits."
   ]
  },
  {
   "cell_type": "code",
   "execution_count": null,
   "metadata": {},
   "outputs": [],
   "source": []
  },
  {
   "cell_type": "code",
   "execution_count": 1,
   "metadata": {},
   "outputs": [],
   "source": [
    "import numpy as np"
   ]
  },
  {
   "cell_type": "code",
   "execution_count": 2,
   "metadata": {},
   "outputs": [
    {
     "data": {
      "text/plain": [
       "Generator(PCG64) at 0x11128C7C8"
      ]
     },
     "execution_count": 2,
     "metadata": {},
     "output_type": "execute_result"
    }
   ],
   "source": [
    "np.random.default_rng()"
   ]
  },
  {
   "cell_type": "code",
   "execution_count": null,
   "metadata": {},
   "outputs": [],
   "source": []
  }
 ],
 "metadata": {
  "anaconda-cloud": {},
  "kernelspec": {
   "display_name": "Python 3",
   "language": "python",
   "name": "python3"
  },
  "language_info": {
   "codemirror_mode": {
    "name": "ipython",
    "version": 3
   },
   "file_extension": ".py",
   "mimetype": "text/x-python",
   "name": "python",
   "nbconvert_exporter": "python",
   "pygments_lexer": "ipython3",
   "version": "3.7.1"
  }
 },
 "nbformat": 4,
 "nbformat_minor": 1
}
