{
 "cells": [
  {
   "cell_type": "markdown",
   "id": "hindu-lindsay",
   "metadata": {},
   "source": [
    "# Yile Chen | Assignment 3\n",
    "## Exercise 13\n",
    "Variance is the variation around the mean. Standard deviation is the square root of variance."
   ]
  },
  {
   "cell_type": "markdown",
   "id": "broad-episode",
   "metadata": {},
   "source": [
    "## Exercise 14\n",
    "Let the expectation of X be $\\mu$\n",
    "\n",
    "$Var(X+c) \\\\\n",
    "= E((X+c)^2) - (E(X+c))^2 \\\\\n",
    "= E(X^2 + 2cX + c^2) - (\\mu^2 + 2\\mu c + c^2) \\\\\n",
    "= E(X^2) - \\mu^2 \\\\\n",
    "= Var(X)$\n",
    "\n",
    "\n",
    "$Var(cX) = E((cX)^2) - (E(cX))^2 \\\\\n",
    "= c^2E(X^2) - (c\\mu)^2 \\\\\n",
    "= c^2(E(X^2) - \\mu^2) \\\\\n",
    "= c^2Var(X)$"
   ]
  },
  {
   "cell_type": "markdown",
   "id": "compound-richmond",
   "metadata": {},
   "source": [
    "## Exercise 15\n",
    "$\\int_{0}^{\\inf}x \\mu e^{-\\mu x} dx \\\\\n",
    "= x \\mu \\frac{-1}{\\mu}e^{-\\mu x} - \\int_{0}^{\\inf}1 * \\frac{-1}{\\mu}e^{-\\mu x} \\mu dx \\\\\n",
    "= - 0 +  \\int_{0}^{\\inf} e^{-\\mu x} dx \\\\\n",
    "= \\frac{1}{\\mu}\\int_{0}^{\\inf} \\mu e^{-\\mu x} dx \\\\\n",
    "= \\frac{1}{\\mu}\n",
    "$"
   ]
  },
  {
   "cell_type": "markdown",
   "id": "accessory-turtle",
   "metadata": {},
   "source": [
    "##  Exercise 16"
   ]
  },
  {
   "cell_type": "code",
   "execution_count": 2,
   "id": "reasonable-intro",
   "metadata": {
    "scrolled": true
   },
   "outputs": [
    {
     "name": "stdout",
     "output_type": "stream",
     "text": [
      "sample mean: 4.042310717776078\n",
      "standard deviation: 2.8090646757191675\n"
     ]
    }
   ],
   "source": [
    "import numpy as np\n",
    "sample_size = 100\n",
    "X = np.random.normal(size=sample_size, loc=4, scale=3) \n",
    "print(\"sample mean:\", X.mean())\n",
    "print(\"standard deviation:\", X.var()**0.5)"
   ]
  },
  {
   "cell_type": "markdown",
   "id": "eight-ridge",
   "metadata": {},
   "source": [
    "##  Exercise 17"
   ]
  },
  {
   "cell_type": "code",
   "execution_count": 45,
   "id": "aging-exception",
   "metadata": {},
   "outputs": [],
   "source": [
    "#sample of normal distribution\n",
    "x = np.random.normal(size = 1000, loc = 4, scale = 3)"
   ]
  },
  {
   "cell_type": "code",
   "execution_count": 46,
   "id": "amber-batman",
   "metadata": {},
   "outputs": [
    {
     "data": {
      "text/plain": [
       "True"
      ]
     },
     "execution_count": 46,
     "metadata": {},
     "output_type": "execute_result"
    }
   ],
   "source": [
    "def g1(x):\n",
    "    return x**2\n",
    "def g2(x):\n",
    "    return x**4 + (2*x**2)\n",
    "\n",
    "g1(x.mean()) <= np.array(list(map(g1, x))).mean()"
   ]
  },
  {
   "cell_type": "code",
   "execution_count": 47,
   "id": "consistent-sleeve",
   "metadata": {},
   "outputs": [
    {
     "data": {
      "text/plain": [
       "True"
      ]
     },
     "execution_count": 47,
     "metadata": {},
     "output_type": "execute_result"
    }
   ],
   "source": [
    "g2(x.mean()) <= np.array(list(map(g2, x))).mean()"
   ]
  },
  {
   "cell_type": "code",
   "execution_count": 42,
   "id": "vital-pioneer",
   "metadata": {},
   "outputs": [],
   "source": [
    "#sample of uniform distribution\n",
    "x = np.random.random(size =1000)"
   ]
  },
  {
   "cell_type": "code",
   "execution_count": 43,
   "id": "continental-personality",
   "metadata": {},
   "outputs": [
    {
     "data": {
      "text/plain": [
       "True"
      ]
     },
     "execution_count": 43,
     "metadata": {},
     "output_type": "execute_result"
    }
   ],
   "source": [
    "g1(x.mean()) <= np.array(list(map(g1, x))).mean()"
   ]
  },
  {
   "cell_type": "code",
   "execution_count": 44,
   "id": "vulnerable-naples",
   "metadata": {},
   "outputs": [
    {
     "data": {
      "text/plain": [
       "True"
      ]
     },
     "execution_count": 44,
     "metadata": {},
     "output_type": "execute_result"
    }
   ],
   "source": [
    "g2(x.mean()) <= np.array(list(map(g2, x))).mean()"
   ]
  },
  {
   "cell_type": "code",
   "execution_count": null,
   "id": "expressed-exchange",
   "metadata": {},
   "outputs": [],
   "source": []
  }
 ],
 "metadata": {
  "kernelspec": {
   "display_name": "Python 3",
   "language": "python",
   "name": "python3"
  },
  "language_info": {
   "codemirror_mode": {
    "name": "ipython",
    "version": 3
   },
   "file_extension": ".py",
   "mimetype": "text/x-python",
   "name": "python",
   "nbconvert_exporter": "python",
   "pygments_lexer": "ipython3",
   "version": "3.7.1"
  }
 },
 "nbformat": 4,
 "nbformat_minor": 5
}
