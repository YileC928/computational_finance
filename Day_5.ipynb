{
 "cells": [
  {
   "cell_type": "markdown",
   "metadata": {},
   "source": [
    "ME200, Johannes Ruf and Luitgard Veraart"
   ]
  },
  {
   "cell_type": "markdown",
   "metadata": {},
   "source": [
    "# Day 5: Random number generation in Python (cont'ed)"
   ]
  },
  {
   "cell_type": "markdown",
   "metadata": {},
   "source": [
    "## The acceptance-rejection algorithm for the beta distribution"
   ]
  },
  {
   "cell_type": "markdown",
   "metadata": {},
   "source": [
    "To introduce the beta distribution, we need to define the following function\n",
    "\n",
    "$$\n",
    "\t\\beta(a,b) = \\int_0^1 x^{a-1} (1-x)^{b-1} dx, \\qquad a, b > 0.\n",
    "$$\n",
    "\n",
    "This function does not have an analytic solution."
   ]
  },
  {
   "cell_type": "markdown",
   "metadata": {},
   "source": [
    "The `scipy` package provides a way to compute the function:"
   ]
  },
  {
   "cell_type": "code",
   "execution_count": 10,
   "metadata": {},
   "outputs": [],
   "source": [
    "from scipy.special import beta"
   ]
  },
  {
   "cell_type": "code",
   "execution_count": 11,
   "metadata": {},
   "outputs": [
    {
     "data": {
      "text/plain": [
       "0.08333333333333333"
      ]
     },
     "execution_count": 11,
     "metadata": {},
     "output_type": "execute_result"
    }
   ],
   "source": [
    "beta(2, 3)"
   ]
  },
  {
   "cell_type": "markdown",
   "metadata": {},
   "source": [
    "The beta distribution is a continuous distribution with parameters $a,b$ and with PDF\n",
    "\n",
    "$$\n",
    "\tf(x) = \\left \\{ \\begin{array}{cc}\n",
    "0, & \\textrm{ if } x \\notin (0, 1), \\\\\n",
    "\\frac{x^{a-1} (1-x)^{b-1}}{\\beta(a,b)}, & \\textrm{ if } x \\in (0,1)\n",
    "\\end{array}\n",
    "\\right . \n",
    "$$"
   ]
  },
  {
   "cell_type": "markdown",
   "metadata": {},
   "source": [
    "Our goal is now to generate samples from the beta distribution. \n",
    "\n",
    "To start, let us implement the beta PDF as follows, using an if-type statement:"
   ]
  },
  {
   "cell_type": "code",
   "execution_count": 37,
   "metadata": {},
   "outputs": [],
   "source": [
    "import numpy as np"
   ]
  },
  {
   "cell_type": "code",
   "execution_count": 38,
   "metadata": {},
   "outputs": [],
   "source": [
    "def beta_pdf(x, a=3, b=4) :\n",
    "    # the following line behaves like an if statement. It avoids a loop if x is an array.\n",
    "    return np.where((x <= 0) | (x >= 1), 0., x**(a - 1) * (1 - x)**(b - 1) / beta(a,b))"
   ]
  },
  {
   "cell_type": "markdown",
   "metadata": {},
   "source": [
    "We want to use uniformly distributed samples, hence we have to find $c$ such that $f(x) \\leq c$ for all $x \\in [0,1]$.\n",
    "\n",
    "This seems difficult to do analytically, so let's use Python to find such $c$. (`scipy` has a good minimization routine)"
   ]
  },
  {
   "cell_type": "code",
   "execution_count": 39,
   "metadata": {},
   "outputs": [],
   "source": [
    "from scipy import optimize"
   ]
  },
  {
   "cell_type": "code",
   "execution_count": 40,
   "metadata": {},
   "outputs": [],
   "source": [
    "a_param, b_param = 3, 4"
   ]
  },
  {
   "cell_type": "code",
   "execution_count": 41,
   "metadata": {},
   "outputs": [
    {
     "name": "stdout",
     "output_type": "stream",
     "text": [
      "      fun: -2.0735999999999994\n",
      " hess_inv: array([[0.0231442]])\n",
      "      jac: array([0.])\n",
      "  message: 'Optimization terminated successfully.'\n",
      "     nfev: 14\n",
      "      nit: 5\n",
      "     njev: 7\n",
      "   status: 0\n",
      "  success: True\n",
      "        x: array([0.39999999])\n"
     ]
    }
   ],
   "source": [
    "return_object_optimizer = optimize.minimize(lambda x: -beta_pdf(x, a=a_param, b=b_param), 1/2);\n",
    "print(return_object_optimizer)\n",
    "c = -return_object_optimizer['fun']"
   ]
  },
  {
   "cell_type": "code",
   "execution_count": 42,
   "metadata": {},
   "outputs": [
    {
     "name": "stdout",
     "output_type": "stream",
     "text": [
      "Sample from beta distribution: 0.31675833970975287.\n"
     ]
    }
   ],
   "source": [
    "rng = np.random.default_rng(seed=12345) \n",
    "\n",
    "u = rng.random()\n",
    "cand = rng.random()      \n",
    "while (u > beta_pdf(cand, a=a_param, b=b_param) / c):      # is U larger than f(x) / (c g(x)) ???\n",
    "    u = rng.random()\n",
    "    cand = rng.random()    \n",
    "\n",
    "print(f'Sample from beta distribution: {cand}.')"
   ]
  },
  {
   "cell_type": "markdown",
   "metadata": {},
   "source": [
    "## Control structures in Python, part II, and beta distribution (cont'ed)"
   ]
  },
  {
   "cell_type": "markdown",
   "metadata": {},
   "source": [
    "* We have encountered two different control structures: for and while loops:\n",
    "\n",
    " * The while loop is  used when we need to repeat some commands until a given condition is true.  We do not know how many times the commands need to be executed beforehand.\n",
    " * The for loop is  used when we need to repeat some commands a given number of times.\n",
    "\n",
    "* The while loop needs some caution. For example, the next code never stops:\n",
    "\n",
    "`while (1 > 0):\n",
    "     print('hello')`\n",
    "\n",
    "* Sometimes, we need to combine for and while loops.\n",
    "* For example, if we want to generate 1000 samples from the beta distribution, then we would use an outer for loop and an inner while loop, see the next slide."
   ]
  },
  {
   "cell_type": "code",
   "execution_count": 43,
   "metadata": {},
   "outputs": [
    {
     "name": "stdout",
     "output_type": "stream",
     "text": [
      "We used 207553 iterations for 100000 samples.\n"
     ]
    }
   ],
   "source": [
    "sample_size = 100_000\n",
    "samples = []    # instead of an empty array a so called empty list, as an alternative\n",
    "counter = 0\n",
    "\n",
    "rng = np.random.default_rng(seed=12345) \n",
    "\n",
    "for _ in range(sample_size):\n",
    "    u = rng.random()\n",
    "    cand = rng.random()       # candidate sample from g PDF\n",
    "    counter += 1\n",
    "    \n",
    "    while (u > beta_pdf(cand, a=a_param, b=b_param) / c):      \n",
    "        # is U larger than f(x) / (c g(x)) ???\n",
    "        \n",
    "        u = rng.random()\n",
    "        cand = rng.random()    \n",
    "        counter += 1\n",
    "    samples.append(cand)\n",
    "\n",
    "print('We used {} iterations for {} samples.'.format(counter, sample_size))"
   ]
  },
  {
   "cell_type": "markdown",
   "metadata": {},
   "source": [
    "Note that this is pretty close to what we would expect from our value of $c$."
   ]
  },
  {
   "cell_type": "markdown",
   "metadata": {},
   "source": [
    "Let's compare with the `numpy` random number generator:"
   ]
  },
  {
   "cell_type": "code",
   "execution_count": 44,
   "metadata": {},
   "outputs": [],
   "source": [
    "samples_np = rng.beta(a=a_param, b=b_param, size=sample_size)"
   ]
  },
  {
   "cell_type": "code",
   "execution_count": 45,
   "metadata": {},
   "outputs": [],
   "source": [
    "import matplotlib.pyplot as plt"
   ]
  },
  {
   "cell_type": "code",
   "execution_count": 46,
   "metadata": {},
   "outputs": [
    {
     "data": {
      "image/png": "[encoded data removed]",
      "text/plain": [
       "<Figure size 1080x576 with 2 Axes>"
      ]
     },
     "metadata": {
      "needs_background": "light"
     },
     "output_type": "display_data"
    }
   ],
   "source": [
    "_, axs = plt.subplots(nrows=1, ncols=2, figsize=(15, 8))\n",
    "axs[0].hist(samples, bins=100, density=True);\n",
    "axs[0].set_title('Histogram of random numbers generated by acceptance-rejection algorithm')\n",
    "axs[1].hist(samples_np, bins=100, density=True);\n",
    "axs[1].set_title('Histogram of random numbers generated by NumPy directly');\n",
    "for ax in axs:\n",
    "    ax.set_ylim([0, 2.5]);\n",
    "    ax.set_xlim([0, 1]);"
   ]
  },
  {
   "cell_type": "markdown",
   "metadata": {},
   "source": [
    "We observe, this looks again pretty close."
   ]
  },
  {
   "cell_type": "code",
   "execution_count": null,
   "metadata": {},
   "outputs": [],
   "source": []
  },
  {
   "cell_type": "code",
   "execution_count": null,
   "metadata": {},
   "outputs": [],
   "source": []
  },
  {
   "cell_type": "code",
   "execution_count": null,
   "metadata": {},
   "outputs": [],
   "source": []
  }
 ],
 "metadata": {
  "anaconda-cloud": {},
  "kernelspec": {
   "display_name": "Python 3",
   "language": "python",
   "name": "python3"
  },
  "language_info": {
   "codemirror_mode": {
    "name": "ipython",
    "version": 3
   },
   "file_extension": ".py",
   "mimetype": "text/x-python",
   "name": "python",
   "nbconvert_exporter": "python",
   "pygments_lexer": "ipython3",
   "version": "3.8.5"
  }
 },
 "nbformat": 4,
 "nbformat_minor": 1
}
