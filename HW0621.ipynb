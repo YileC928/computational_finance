{
 "cells": [
  {
   "cell_type": "markdown",
   "id": "defined-apollo",
   "metadata": {},
   "source": [
    "Assignment 1 | Yile Chen\n",
    "----------------\n",
    "## Exercise 1"
   ]
  },
  {
   "cell_type": "code",
   "execution_count": 2,
   "id": "monthly-freeze",
   "metadata": {},
   "outputs": [],
   "source": [
    "num1 = 0\n",
    "num2 = 0\n",
    "dice = [1, 2, 3, 4, 5, 6]\n",
    "for d1 in dice:\n",
    "    for d2 in dice:\n",
    "        for d3 in dice:\n",
    "            if d1 + d2 + d3 == 5:\n",
    "                num1 += 1\n",
    "            elif d1 + d2 + d3 == 17:\n",
    "                num2 += 1\n"
   ]
  },
  {
   "cell_type": "code",
   "execution_count": 8,
   "id": "economic-tattoo",
   "metadata": {
    "scrolled": true
   },
   "outputs": [
    {
     "name": "stdout",
     "output_type": "stream",
     "text": [
      "There are 6 times the sum equals to 5. probability: 0.027777777777777776\n",
      "There are 3 times the sum equals to 17. probability: 0.013888888888888888\n"
     ]
    }
   ],
   "source": [
    "print(\"There are\", num1, \"times the sum equals to 5. probability:\", num1/6**3)\n",
    "print(\"There are\", num2, \"times the sum equals to 17. probability:\", num2/6**3)"
   ]
  },
  {
   "cell_type": "markdown",
   "id": "smaller-township",
   "metadata": {},
   "source": [
    "6 > 3, therefore, a sum of 5 is more likely than a sum of 17."
   ]
  },
  {
   "cell_type": "markdown",
   "id": "quantitative-conditions",
   "metadata": {},
   "source": [
    "## Exercise 2"
   ]
  },
  {
   "cell_type": "markdown",
   "id": "exciting-patrol",
   "metadata": {},
   "source": [
    "1. $\\binom{n}{2}$ games will be played in total.\n",
    "2. There are $\\binom{n}{2} * 3$ possible outcomes. (Assuming there are three different status - win, lose, draw - in each game."
   ]
  },
  {
   "cell_type": "markdown",
   "id": "impressed-involvement",
   "metadata": {},
   "source": [
    "## Exercise 3"
   ]
  },
  {
   "cell_type": "code",
   "execution_count": 10,
   "id": "whole-cannon",
   "metadata": {},
   "outputs": [],
   "source": [
    "import numpy as np\n",
    "v1 = np.array([-30, 40, 10, -10, 40])\n",
    "v2 = np.array([10, 20, -60, -10, 0])"
   ]
  },
  {
   "cell_type": "code",
   "execution_count": 11,
   "id": "front-therapy",
   "metadata": {},
   "outputs": [
    {
     "name": "stdout",
     "output_type": "stream",
     "text": [
      "overall wining in poker 50\n",
      "overall wining in roulette -40\n"
     ]
    }
   ],
   "source": [
    "print(\"overall wining in poker\", v1.sum())\n",
    "print(\"overall wining in roulette\", v2.sum())"
   ]
  },
  {
   "cell_type": "code",
   "execution_count": 13,
   "id": "brave-laundry",
   "metadata": {},
   "outputs": [
    {
     "name": "stdout",
     "output_type": "stream",
     "text": [
      "daily overall winining [-20  60 -50 -20  40]\n"
     ]
    }
   ],
   "source": [
    "print(\"daily overall winining\", v1+v2)"
   ]
  },
  {
   "cell_type": "markdown",
   "id": "sticky-checklist",
   "metadata": {},
   "source": [
    "## Exercise 4"
   ]
  },
  {
   "cell_type": "code",
   "execution_count": 16,
   "id": "suburban-county",
   "metadata": {},
   "outputs": [
    {
     "data": {
      "text/plain": [
       "array([7, 9, 9, 6, 7, 6, 9, 6])"
      ]
     },
     "execution_count": 16,
     "metadata": {},
     "output_type": "execute_result"
    }
   ],
   "source": [
    "np.random.choice([5, 6, 7, 8, 9], size=8, p=[0.1, 0.2, 0.1, 0.05, 0.55], replace=True)\n"
   ]
  },
  {
   "cell_type": "markdown",
   "id": "serial-andorra",
   "metadata": {},
   "source": [
    "## Exercise 5"
   ]
  },
  {
   "cell_type": "code",
   "execution_count": 22,
   "id": "radical-bench",
   "metadata": {},
   "outputs": [],
   "source": [
    "import math\n",
    "#write a helper function\n",
    "def comb (a, b):\n",
    "    '''\n",
    "    compute the combination of \\binom{a}{b}\n",
    "    '''\n",
    "    return math.factorial(a)/(math.factorial(b)*math.factorial(a-b))"
   ]
  },
  {
   "cell_type": "code",
   "execution_count": 42,
   "id": "tribal-phone",
   "metadata": {},
   "outputs": [],
   "source": [
    "def checker(n, k):\n",
    "    '''\n",
    "    check whether the two given equation holds for inputs n and k\n",
    "    '''\n",
    "    print(\"for k = {} and n = {}\".format(n, k))\n",
    "    print(\"equation 1 holds\", comb(n, k) == comb(n, n-k))\n",
    "    print(\"equation 2 holds\", n*comb(n-1, k-1) == k*comb(n, k))"
   ]
  },
  {
   "cell_type": "code",
   "execution_count": 43,
   "id": "hungarian-armenia",
   "metadata": {},
   "outputs": [
    {
     "name": "stdout",
     "output_type": "stream",
     "text": [
      "for k = 5 and n = 2\n",
      "equation 1 holds True\n",
      "equation 2 holds True\n"
     ]
    }
   ],
   "source": [
    "checker(5, 2)"
   ]
  },
  {
   "cell_type": "code",
   "execution_count": 44,
   "id": "nonprofit-embassy",
   "metadata": {},
   "outputs": [
    {
     "name": "stdout",
     "output_type": "stream",
     "text": [
      "for k = 5 and n = 4\n",
      "equation 1 holds True\n",
      "equation 2 holds True\n"
     ]
    }
   ],
   "source": [
    "checker(5, 4)"
   ]
  },
  {
   "cell_type": "code",
   "execution_count": 50,
   "id": "spare-honor",
   "metadata": {},
   "outputs": [
    {
     "name": "stdout",
     "output_type": "stream",
     "text": [
      "for k = 20 and n = 5\n",
      "equation 1 holds True\n",
      "equation 2 holds True\n"
     ]
    }
   ],
   "source": [
    "checker(20, 5)"
   ]
  },
  {
   "cell_type": "code",
   "execution_count": 49,
   "id": "applied-suspect",
   "metadata": {
    "scrolled": true
   },
   "outputs": [
    {
     "name": "stdout",
     "output_type": "stream",
     "text": [
      "for k = 101 and n = 8\n",
      "equation 1 holds True\n",
      "equation 2 holds True\n"
     ]
    }
   ],
   "source": [
    "checker(101, 8)"
   ]
  },
  {
   "cell_type": "code",
   "execution_count": 48,
   "id": "british-edwards",
   "metadata": {},
   "outputs": [
    {
     "name": "stdout",
     "output_type": "stream",
     "text": [
      "for k = 2356 and n = 15\n",
      "equation 1 holds True\n",
      "equation 2 holds False\n"
     ]
    }
   ],
   "source": [
    "#I was a bit confused here, the numbers are quite close \n",
    "#but the result shows false. Is it something to do with python settings?\n",
    "checker(2356, 15)\n"
   ]
  },
  {
   "cell_type": "code",
   "execution_count": 60,
   "id": "transparent-calendar",
   "metadata": {},
   "outputs": [
    {
     "data": {
      "text/plain": [
       "4.195907258263325e+39"
      ]
     },
     "execution_count": 60,
     "metadata": {},
     "output_type": "execute_result"
    }
   ],
   "source": [
    "comb(2355, 14)*2356"
   ]
  },
  {
   "cell_type": "code",
   "execution_count": 63,
   "id": "peaceful-alliance",
   "metadata": {},
   "outputs": [
    {
     "data": {
      "text/plain": [
       "4.1959072582633243e+39"
      ]
     },
     "execution_count": 63,
     "metadata": {},
     "output_type": "execute_result"
    }
   ],
   "source": [
    "comb(2356, 15)*15"
   ]
  },
  {
   "cell_type": "code",
   "execution_count": 66,
   "id": "dirty-begin",
   "metadata": {},
   "outputs": [
    {
     "data": {
      "text/plain": [
       "False"
      ]
     },
     "execution_count": 66,
     "metadata": {},
     "output_type": "execute_result"
    }
   ],
   "source": [
    "n = 2356\n",
    "k = 15\n",
    "round(n*comb(n-1, k-1)) == round(k*comb(n, k))"
   ]
  },
  {
   "cell_type": "code",
   "execution_count": null,
   "id": "solid-charity",
   "metadata": {},
   "outputs": [],
   "source": []
  }
 ],
 "metadata": {
  "kernelspec": {
   "display_name": "Python 3",
   "language": "python",
   "name": "python3"
  },
  "language_info": {
   "codemirror_mode": {
    "name": "ipython",
    "version": 3
   },
   "file_extension": ".py",
   "mimetype": "text/x-python",
   "name": "python",
   "nbconvert_exporter": "python",
   "pygments_lexer": "ipython3",
   "version": "3.7.1"
  }
 },
 "nbformat": 4,
 "nbformat_minor": 5
}
